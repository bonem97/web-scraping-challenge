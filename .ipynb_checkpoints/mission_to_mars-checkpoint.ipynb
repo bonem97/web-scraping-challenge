{
 "cells": [
  {
   "cell_type": "markdown",
   "metadata": {},
   "source": [
    "<h1>Mission to Mars</h1>"
   ]
  },
  {
   "cell_type": "code",
   "execution_count": 1,
   "metadata": {},
   "outputs": [],
   "source": [
    "# Dependencies\n",
    "from urllib.request import urlopen\n",
    "from bs4 import BeautifulSoup as bsoup\n",
    "from splinter import Browser"
   ]
  },
  {
   "cell_type": "code",
   "execution_count": null,
   "metadata": {},
   "outputs": [],
   "source": [
    "#import client\n",
    "mars_url = 'https://mars.nasa.gov/news/'\n",
    "uclient = urlopen(mars_url)\n",
    "# HTML object\n",
    "mars_html = uclient.read()\n",
    "# at end include mars_html.close()\n",
    "#executable_path = {'executable_path': '/usr/local/bin/chromedriver'}\n",
    "#browser = Browser('chrome', **executable_path, headless=False)\n",
    "#browser.visit(url)"
   ]
  },
  {
   "cell_type": "code",
   "execution_count": null,
   "metadata": {},
   "outputs": [],
   "source": [
    "# Parse HTML with BeautifulSoup\n",
    "mars_soup = bsoup(mars_html, 'html.parser')\n",
    "# Retrieve all elements that contain title information\n",
    "article = mars_soup.find('div', class_='list_text')\n",
    "article_title = mars_soup.find_all('div', class_=\"list_text\")\n",
    "print(article_title)"
   ]
  },
  {
   "cell_type": "code",
   "execution_count": null,
   "metadata": {},
   "outputs": [],
   "source": [
    "# Parse HTML with BeautifulSoup to find article teasers\n",
    "articles = mars_soup.find(\"div\",{'class':'article_teaser_body'})\n",
    "\n",
    "#print(articles_body)"
   ]
  },
  {
   "cell_type": "markdown",
   "metadata": {},
   "source": [
    "<h1>JPL Mars Space Images - Featured Image</h1>"
   ]
  },
  {
   "cell_type": "code",
   "execution_count": 7,
   "metadata": {},
   "outputs": [],
   "source": [
    "# Write new basic tools\n",
    "mars_url2 = 'https://www.jpl.nasa.gov/spaceimages/?search=&category=Mars'\n",
    "uclient2 = urlopen(mars_url2)\n",
    "mars_html2 = uclient2.read()\n",
    "mars_soup2 = bsoup(mars_html2, 'html.parser')"
   ]
  },
  {
   "cell_type": "code",
   "execution_count": 22,
   "metadata": {},
   "outputs": [
    {
     "name": "stdout",
     "output_type": "stream",
     "text": [
      "https://www.jpl.nasa.gov/spaceimages/?search=&category=Mars/spaceimages/images/mediumsize/PIA14924_ip.jpg\n"
     ]
    }
   ],
   "source": [
    "# scrape site for website's featured image\n",
    "# return a url for the image\n",
    "mars_image = mars_soup2.find('div', class_='carousel_items')\n",
    "mars_image = mars_image.article.a['data-fancybox-href']\n",
    "featured_image_url = f\"{mars_url2}{mars_image}\"\n",
    "\n",
    "print(featured_image_url)"
   ]
  },
  {
   "cell_type": "code",
   "execution_count": null,
   "metadata": {},
   "outputs": [],
   "source": []
  }
 ],
 "metadata": {
  "kernelspec": {
   "display_name": "Python 3",
   "language": "python",
   "name": "python3"
  },
  "language_info": {
   "codemirror_mode": {
    "name": "ipython",
    "version": 3
   },
   "file_extension": ".py",
   "mimetype": "text/x-python",
   "name": "python",
   "nbconvert_exporter": "python",
   "pygments_lexer": "ipython3",
   "version": "3.7.6"
  }
 },
 "nbformat": 4,
 "nbformat_minor": 4
}
