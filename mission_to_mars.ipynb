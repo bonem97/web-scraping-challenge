{
 "cells": [
  {
   "cell_type": "markdown",
   "metadata": {},
   "source": [
    "<h1>Mission to Mars</h1>"
   ]
  },
  {
   "cell_type": "code",
   "execution_count": 1,
   "metadata": {},
   "outputs": [],
   "source": [
    "# Dependencies\n",
    "from urllib.request import urlopen\n",
    "from bs4 import BeautifulSoup as bsoup\n",
    "from splinter import Browser\n",
    "import pandas as pd"
   ]
  },
  {
   "cell_type": "code",
   "execution_count": 2,
   "metadata": {},
   "outputs": [],
   "source": [
    "#import client\n",
    "mars_url = 'https://mars.nasa.gov/news/'\n",
    "uclient = urlopen(mars_url)\n",
    "# HTML object\n",
    "mars_html = uclient.read()\n",
    "# at end include mars_html.close()\n",
    "#executable_path = {'executable_path': '/usr/local/bin/chromedriver'}\n",
    "#browser = Browser('chrome', **executable_path, headless=False)\n",
    "#browser.visit(url)"
   ]
  },
  {
   "cell_type": "code",
   "execution_count": 3,
   "metadata": {},
   "outputs": [
    {
     "name": "stdout",
     "output_type": "stream",
     "text": [
      "[]\n"
     ]
    }
   ],
   "source": [
    "# Parse HTML with BeautifulSoup\n",
    "mars_soup = bsoup(mars_html, 'html.parser')\n",
    "# Retrieve all elements that contain title information\n",
    "article = mars_soup.find('div', class_='list_text')\n",
    "article_title = mars_soup.find_all('div', class_=\"list_text\")\n",
    "print(article_title)"
   ]
  },
  {
   "cell_type": "code",
   "execution_count": 4,
   "metadata": {},
   "outputs": [],
   "source": [
    "# Parse HTML with BeautifulSoup to find article teasers\n",
    "articles = mars_soup.find(\"div\",{'class':'article_teaser_body'})\n",
    "\n",
    "#print(articles_body)"
   ]
  },
  {
   "cell_type": "markdown",
   "metadata": {},
   "source": [
    "<h1>JPL Mars Space Images - Featured Image</h1>"
   ]
  },
  {
   "cell_type": "code",
   "execution_count": 5,
   "metadata": {},
   "outputs": [],
   "source": [
    "# Write new basic tools\n",
    "mars_url2 = 'https://www.jpl.nasa.gov/spaceimages/?search=&category=Mars'\n",
    "uclient2 = urlopen(mars_url2)\n",
    "mars_html2 = uclient2.read()\n",
    "mars_soup2 = bsoup(mars_html2, 'html.parser')"
   ]
  },
  {
   "cell_type": "code",
   "execution_count": 6,
   "metadata": {},
   "outputs": [
    {
     "name": "stdout",
     "output_type": "stream",
     "text": [
      "https://www.jpl.nasa.gov/spaceimages/?search=&category=Mars/spaceimages/images/mediumsize/PIA17011_ip.jpg\n"
     ]
    }
   ],
   "source": [
    "# scrape site for website's featured image\n",
    "# return a url for the image\n",
    "mars_image = mars_soup2.find('div', class_='carousel_items')\n",
    "mars_image = mars_image.article.a['data-fancybox-href']\n",
    "featured_image_url = f\"{mars_url2}{mars_image}\"\n",
    "\n",
    "print(featured_image_url)"
   ]
  },
  {
   "cell_type": "markdown",
   "metadata": {},
   "source": [
    "<h1>Mars Facts</h1>"
   ]
  },
  {
   "cell_type": "code",
   "execution_count": 14,
   "metadata": {},
   "outputs": [],
   "source": [
    "# Write new basic tools\n",
    "mars_url3 = 'https://space-facts.com/mars/'\n",
    "uclient3 = urlopen(mars_url3)\n",
    "mars_html3 = uclient3.read()\n",
    "mars_soup3 = bsoup(mars_html3, 'html.parser')"
   ]
  },
  {
   "cell_type": "code",
   "execution_count": 24,
   "metadata": {
    "scrolled": false
   },
   "outputs": [
    {
     "data": {
      "text/plain": [
       "<tbody><tr class=\"row-2\"><td class=\"column-1\">Diameter:</td><td class=\"column-2\"><span class=\"mars-s\">6,779 km</span></td><td class=\"column-3\"><span class=\"earth-s\">12,742 km</span></td></tr><tr class=\"row-3\"><td class=\"column-1\">Mass:</td><td class=\"column-2\"><span class=\"mars-s\">6.39 × 10^23 kg</span></td><td class=\"column-3\"><span class=\"earth-s\">5.97 × 10^24 kg</span></td></tr><tr class=\"row-4\"><td class=\"column-1\">Moons:</td><td class=\"column-2\"><span class=\"mars-s\">2</span></td><td class=\"column-3\"><span class=\"earth-s\">1</span></td></tr><tr class=\"row-5\"><td class=\"column-1\">Distance from Sun:</td><td class=\"column-2\"><span class=\"mars-s\">227,943,824 km</span></td><td class=\"column-3\"><span class=\"earth-s\">149,598,262 km</span></td></tr><tr class=\"row-6\"><td class=\"column-1\">Length of Year:</td><td class=\"column-2\"><span class=\"mars-s\">687 Earth days</span></td><td class=\"column-3\"><span class=\"earth-s\">365.24 days</span></td></tr><tr class=\"row-7\"><td class=\"column-1\">Temperature:</td><td class=\"column-2\"><span class=\"mars-s\">-87 to -5 °C</span></td><td class=\"column-3\"><span class=\"earth-s\">-88 to 58°C</span></td></tr></tbody>"
      ]
     },
     "execution_count": 24,
     "metadata": {},
     "output_type": "execute_result"
    }
   ],
   "source": [
    "mars_facts = mars_soup3.find('table', class_='tablepress tablepress-id-comp-mars blue-table')\n",
    "mars_facts.tbody\n",
    "#df = pd.read_html(mars_facts.tbody)\n",
    "#df"
   ]
  },
  {
   "cell_type": "code",
   "execution_count": null,
   "metadata": {},
   "outputs": [],
   "source": []
  }
 ],
 "metadata": {
  "kernelspec": {
   "display_name": "Python 3",
   "language": "python",
   "name": "python3"
  },
  "language_info": {
   "codemirror_mode": {
    "name": "ipython",
    "version": 3
   },
   "file_extension": ".py",
   "mimetype": "text/x-python",
   "name": "python",
   "nbconvert_exporter": "python",
   "pygments_lexer": "ipython3",
   "version": "3.7.6"
  }
 },
 "nbformat": 4,
 "nbformat_minor": 4
}
