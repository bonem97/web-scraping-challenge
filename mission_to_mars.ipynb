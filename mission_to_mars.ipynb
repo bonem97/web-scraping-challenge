{
 "cells": [
  {
   "cell_type": "markdown",
   "metadata": {},
   "source": [
    "<h1>Mission to Mars</h1>"
   ]
  },
  {
   "cell_type": "code",
   "execution_count": 1,
   "metadata": {},
   "outputs": [],
   "source": [
    "# Dependencies\n",
    "from urllib.request import urlopen\n",
    "from bs4 import BeautifulSoup as bsoup"
   ]
  },
  {
   "cell_type": "code",
   "execution_count": 2,
   "metadata": {},
   "outputs": [],
   "source": [
    "#import client\n",
    "mars_url = 'https://mars.nasa.gov/news/?page=0&per_page=40&order=publish_date+desc%2Ccreated_at+desc&search=&category=19%2C165%2C184%2C204&blank_scope=Latest'\n",
    "uclient = urlopen(mars_url)\n",
    "# HTML object\n",
    "mars_html = uclient.read()\n",
    "# at end include mars_html.close()"
   ]
  },
  {
   "cell_type": "code",
   "execution_count": 18,
   "metadata": {},
   "outputs": [
    {
     "name": "stdout",
     "output_type": "stream",
     "text": [
      "[]\n"
     ]
    },
    {
     "data": {
      "text/plain": [
       "'Managed by the Mars Exploration Program and the Jet Propulsion Laboratory for NASA’s Science Mission Directorate'"
      ]
     },
     "execution_count": 18,
     "metadata": {},
     "output_type": "execute_result"
    }
   ],
   "source": [
    "# Parse HTML with Beautiful Soup\n",
    "mars_soup = bsoup(mars_html, 'html.parser')\n",
    "# Retrieve all elements that contain book information\n",
    "articles = mars_soup.find_all('article', class_='content_title')\n",
    "print(articles)\n",
    "mars_soup.body.p.text"
   ]
  },
  {
   "cell_type": "code",
   "execution_count": 12,
   "metadata": {},
   "outputs": [
    {
     "name": "stdout",
     "output_type": "stream",
     "text": [
      "done\n"
     ]
    }
   ],
   "source": [
    "for articles in articles:\n",
    "    news_date = mars_soup.find(\"div\", class_ = \"list_date\").text\n",
    "    news_title = mars_soup.find(\"div\", class_ = \"content_title\").text\n",
    "    news_paragraph = mars_soup.find(\"div\", class_ = \"article_teaser_body\").text\n",
    "    print('-----------')\n",
    "    print(news_title)\n",
    "    print('http://mars.nasa.gov/' + href)\n",
    "print('done')"
   ]
  },
  {
   "cell_type": "code",
   "execution_count": null,
   "metadata": {},
   "outputs": [],
   "source": [
    " "
   ]
  }
 ],
 "metadata": {
  "kernelspec": {
   "display_name": "Python 3",
   "language": "python",
   "name": "python3"
  },
  "language_info": {
   "codemirror_mode": {
    "name": "ipython",
    "version": 3
   },
   "file_extension": ".py",
   "mimetype": "text/x-python",
   "name": "python",
   "nbconvert_exporter": "python",
   "pygments_lexer": "ipython3",
   "version": "3.7.6"
  }
 },
 "nbformat": 4,
 "nbformat_minor": 4
}
